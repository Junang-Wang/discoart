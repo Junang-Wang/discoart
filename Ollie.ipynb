{
 "cells": [
  {
   "cell_type": "code",
   "execution_count": 2,
   "metadata": {},
   "outputs": [
    {
     "name": "stderr",
     "output_type": "stream",
     "text": [
      "2022-08-07 18:43:06,506 - discoart - INFO - creating artworks `discoart-b00f7a9e163d11edae88645d8679f00d` (0/1)...\n"
     ]
    },
    {
     "ename": "PermissionError",
     "evalue": "[Errno 13] Permission denied: 'C:\\\\Users\\\\haha\\\\AppData\\\\Local\\\\Temp\\\\tmp96vgsx50.svg'",
     "output_type": "error",
     "traceback": [
      "\u001b[1;31m---------------------------------------------------------------------------\u001b[0m",
      "\u001b[1;31mPermissionError\u001b[0m                           Traceback (most recent call last)",
      "\u001b[1;32me:\\files\\Github\\discoart\\Ollie.ipynb Cell 1\u001b[0m in \u001b[0;36m<cell line: 4>\u001b[1;34m()\u001b[0m\n\u001b[0;32m      <a href='vscode-notebook-cell:/e%3A/files/Github/discoart/Ollie.ipynb#W0sZmlsZQ%3D%3D?line=1'>2</a>\u001b[0m os\u001b[39m.\u001b[39menviron[\u001b[39m'\u001b[39m\u001b[39mWANDB_MODE\u001b[39m\u001b[39m'\u001b[39m] \u001b[39m=\u001b[39m \u001b[39m'\u001b[39m\u001b[39monline\u001b[39m\u001b[39m'\u001b[39m\n\u001b[0;32m      <a href='vscode-notebook-cell:/e%3A/files/Github/discoart/Ollie.ipynb#W0sZmlsZQ%3D%3D?line=2'>3</a>\u001b[0m \u001b[39mfrom\u001b[39;00m \u001b[39mdiscoart\u001b[39;00m \u001b[39mimport\u001b[39;00m create\n\u001b[1;32m----> <a href='vscode-notebook-cell:/e%3A/files/Github/discoart/Ollie.ipynb#W0sZmlsZQ%3D%3D?line=3'>4</a>\u001b[0m create()\n",
      "File \u001b[1;32me:\\files\\Github\\discoart\\discoart\\create.py:212\u001b[0m, in \u001b[0;36mcreate\u001b[1;34m(**kwargs)\u001b[0m\n\u001b[0;32m    209\u001b[0m \u001b[39mtry\u001b[39;00m:\n\u001b[0;32m    210\u001b[0m     \u001b[39mfrom\u001b[39;00m \u001b[39m.\u001b[39;00m\u001b[39mrunner\u001b[39;00m \u001b[39mimport\u001b[39;00m do_run\n\u001b[1;32m--> 212\u001b[0m     da \u001b[39m=\u001b[39m do_run(\n\u001b[0;32m    213\u001b[0m         _args,\n\u001b[0;32m    214\u001b[0m         (model, diffusion, clip_models, secondary_model),\n\u001b[0;32m    215\u001b[0m         device\u001b[39m=\u001b[39;49mdevice,\n\u001b[0;32m    216\u001b[0m         events\u001b[39m=\u001b[39;49mevents,\n\u001b[0;32m    217\u001b[0m     )\n\u001b[0;32m    218\u001b[0m     is_exit0 \u001b[39m=\u001b[39m \u001b[39mTrue\u001b[39;00m\n\u001b[0;32m    219\u001b[0m     \u001b[39mreturn\u001b[39;00m da\n",
      "File \u001b[1;32me:\\files\\Github\\discoart\\discoart\\runner.py:379\u001b[0m, in \u001b[0;36mdo_run\u001b[1;34m(args, models, device, events)\u001b[0m\n\u001b[0;32m    377\u001b[0m args\u001b[39m.\u001b[39mseed \u001b[39m=\u001b[39m new_seed\n\u001b[0;32m    378\u001b[0m \u001b[39mif\u001b[39;00m is_jupyter():\n\u001b[1;32m--> 379\u001b[0m     redraw_widget(\n\u001b[0;32m    380\u001b[0m         _handlers,\n\u001b[0;32m    381\u001b[0m         _redraw_fn,\n\u001b[0;32m    382\u001b[0m         args,\n\u001b[0;32m    383\u001b[0m         _nb,\n\u001b[0;32m    384\u001b[0m     )\n\u001b[0;32m    385\u001b[0m free_memory()\n\u001b[0;32m    387\u001b[0m _da \u001b[39m=\u001b[39m [Document(tags\u001b[39m=\u001b[39mcopy\u001b[39m.\u001b[39mdeepcopy(\u001b[39mvars\u001b[39m(args))) \u001b[39mfor\u001b[39;00m _ \u001b[39min\u001b[39;00m \u001b[39mrange\u001b[39m(args\u001b[39m.\u001b[39mbatch_size)]\n",
      "File \u001b[1;32me:\\files\\Github\\discoart\\discoart\\runner.py:509\u001b[0m, in \u001b[0;36mredraw_widget\u001b[1;34m(_handlers, _redraw_fn, args, _nb)\u001b[0m\n\u001b[0;32m    506\u001b[0m _handlers\u001b[39m.\u001b[39mprogress\u001b[39m.\u001b[39mdescription \u001b[39m=\u001b[39m \u001b[39mf\u001b[39m\u001b[39m'\u001b[39m\u001b[39mBaking \u001b[39m\u001b[39m{\u001b[39;00m_nb \u001b[39m+\u001b[39m \u001b[39m1\u001b[39m\u001b[39m}\u001b[39;00m\u001b[39m/\u001b[39m\u001b[39m{\u001b[39;00margs\u001b[39m.\u001b[39mn_batches\u001b[39m}\u001b[39;00m\u001b[39m: \u001b[39m\u001b[39m'\u001b[39m\n\u001b[0;32m    508\u001b[0m \u001b[39mwith\u001b[39;00m tempfile\u001b[39m.\u001b[39mNamedTemporaryFile(mode\u001b[39m=\u001b[39m\u001b[39m'\u001b[39m\u001b[39mwt\u001b[39m\u001b[39m'\u001b[39m, suffix\u001b[39m=\u001b[39m\u001b[39m'\u001b[39m\u001b[39m.svg\u001b[39m\u001b[39m'\u001b[39m) \u001b[39mas\u001b[39;00m fp:\n\u001b[1;32m--> 509\u001b[0m     save_config_svg(args, fp\u001b[39m.\u001b[39;49mname, only_non_default\u001b[39m=\u001b[39;49m\u001b[39mTrue\u001b[39;49;00m)\n\u001b[0;32m    510\u001b[0m     d \u001b[39m=\u001b[39m Document(uri\u001b[39m=\u001b[39mfp\u001b[39m.\u001b[39mname)\u001b[39m.\u001b[39mconvert_uri_to_datauri()\n\u001b[0;32m    511\u001b[0m     _handlers\u001b[39m.\u001b[39mconfig\u001b[39m.\u001b[39mvalue \u001b[39m=\u001b[39m \u001b[39mf\u001b[39m\u001b[39m'\u001b[39m\u001b[39m<img src=\u001b[39m\u001b[39m\"\u001b[39m\u001b[39m{\u001b[39;00md\u001b[39m.\u001b[39muri\u001b[39m}\u001b[39;00m\u001b[39m\"\u001b[39m\u001b[39m alt=\u001b[39m\u001b[39m\"\u001b[39m\u001b[39mnon-default config\u001b[39m\u001b[39m\"\u001b[39m\u001b[39m>\u001b[39m\u001b[39m'\u001b[39m\n",
      "File \u001b[1;32me:\\files\\Github\\discoart\\discoart\\config.py:118\u001b[0m, in \u001b[0;36msave_config_svg\u001b[1;34m(docs, output, **kwargs)\u001b[0m\n\u001b[0;32m    114\u001b[0m console \u001b[39m=\u001b[39m Console(\n\u001b[0;32m    115\u001b[0m     record\u001b[39m=\u001b[39m\u001b[39mTrue\u001b[39;00m, file\u001b[39m=\u001b[39mfp, force_jupyter\u001b[39m=\u001b[39m\u001b[39mFalse\u001b[39;00m, force_interactive\u001b[39m=\u001b[39m\u001b[39mFalse\u001b[39;00m\n\u001b[0;32m    116\u001b[0m )\n\u001b[0;32m    117\u001b[0m print_args_table(cfg, console, \u001b[39m*\u001b[39m\u001b[39m*\u001b[39mkwargs)\n\u001b[1;32m--> 118\u001b[0m console\u001b[39m.\u001b[39;49msave_svg(\n\u001b[0;32m    119\u001b[0m     output \u001b[39mor\u001b[39;49;00m \u001b[39mf\u001b[39;49m\u001b[39m'\u001b[39;49m\u001b[39m{\u001b[39;49;00mcfg[\u001b[39m\"\u001b[39;49m\u001b[39mname_docarray\u001b[39;49m\u001b[39m\"\u001b[39;49m]\u001b[39m}\u001b[39;49;00m\u001b[39m.svg\u001b[39;49m\u001b[39m'\u001b[39;49m,\n\u001b[0;32m    120\u001b[0m     theme\u001b[39m=\u001b[39;49mMONOKAI,\n\u001b[0;32m    121\u001b[0m     title\u001b[39m=\u001b[39;49m\u001b[39mf\u001b[39;49m\u001b[39m'\u001b[39;49m\u001b[39mDiscoArt \u001b[39;49m\u001b[39m{\u001b[39;49;00m__version__\u001b[39m}\u001b[39;49;00m\u001b[39m'\u001b[39;49m,\n\u001b[0;32m    122\u001b[0m )\n",
      "File \u001b[1;32md:\\Anaconda\\envs\\env_pytorch\\lib\\site-packages\\rich\\console.py:2503\u001b[0m, in \u001b[0;36mConsole.save_svg\u001b[1;34m(self, path, title, theme, clear, code_format)\u001b[0m\n\u001b[0;32m   2486\u001b[0m \u001b[39m\"\"\"Generate an SVG file from the console contents (requires record=True in Console constructor).\u001b[39;00m\n\u001b[0;32m   2487\u001b[0m \n\u001b[0;32m   2488\u001b[0m \u001b[39mArgs:\u001b[39;00m\n\u001b[1;32m   (...)\u001b[0m\n\u001b[0;32m   2495\u001b[0m \u001b[39m        injected by Rich can be found by inspecting the ``console.CONSOLE_SVG_FORMAT`` variable.\u001b[39;00m\n\u001b[0;32m   2496\u001b[0m \u001b[39m\"\"\"\u001b[39;00m\n\u001b[0;32m   2497\u001b[0m svg \u001b[39m=\u001b[39m \u001b[39mself\u001b[39m\u001b[39m.\u001b[39mexport_svg(\n\u001b[0;32m   2498\u001b[0m     title\u001b[39m=\u001b[39mtitle,\n\u001b[0;32m   2499\u001b[0m     theme\u001b[39m=\u001b[39mtheme,\n\u001b[0;32m   2500\u001b[0m     clear\u001b[39m=\u001b[39mclear,\n\u001b[0;32m   2501\u001b[0m     code_format\u001b[39m=\u001b[39mcode_format,\n\u001b[0;32m   2502\u001b[0m )\n\u001b[1;32m-> 2503\u001b[0m \u001b[39mwith\u001b[39;00m \u001b[39mopen\u001b[39;49m(path, \u001b[39m\"\u001b[39;49m\u001b[39mwt\u001b[39;49m\u001b[39m\"\u001b[39;49m, encoding\u001b[39m=\u001b[39;49m\u001b[39m\"\u001b[39;49m\u001b[39mutf-8\u001b[39;49m\u001b[39m\"\u001b[39;49m) \u001b[39mas\u001b[39;00m write_file:\n\u001b[0;32m   2504\u001b[0m     write_file\u001b[39m.\u001b[39mwrite(svg)\n",
      "\u001b[1;31mPermissionError\u001b[0m: [Errno 13] Permission denied: 'C:\\\\Users\\\\haha\\\\AppData\\\\Local\\\\Temp\\\\tmp96vgsx50.svg'"
     ]
    }
   ],
   "source": [
    "import os\n",
    "os.environ['WANDB_MODE'] = 'online'\n",
    "from discoart import create\n",
    "create()"
   ]
  },
  {
   "cell_type": "code",
   "execution_count": 3,
   "metadata": {},
   "outputs": [
    {
     "ename": "UnicodeDecodeError",
     "evalue": "'gbk' codec can't decode byte 0x99 in position 2934: illegal multibyte sequence",
     "output_type": "error",
     "traceback": [
      "\u001b[1;31m---------------------------------------------------------------------------\u001b[0m",
      "\u001b[1;31mUnicodeDecodeError\u001b[0m                        Traceback (most recent call last)",
      "\u001b[1;32me:\\files\\Github\\discoart\\Ollie.ipynb Cell 2\u001b[0m in \u001b[0;36m<cell line: 3>\u001b[1;34m()\u001b[0m\n\u001b[0;32m      <a href='vscode-notebook-cell:/e%3A/files/Github/discoart/Ollie.ipynb#W4sZmlsZQ%3D%3D?line=0'>1</a>\u001b[0m \u001b[39mfrom\u001b[39;00m \u001b[39mdiscoart\u001b[39;00m \u001b[39mimport\u001b[39;00m cheatsheet\n\u001b[1;32m----> <a href='vscode-notebook-cell:/e%3A/files/Github/discoart/Ollie.ipynb#W4sZmlsZQ%3D%3D?line=2'>3</a>\u001b[0m cheatsheet()\n",
      "File \u001b[1;32me:\\files\\Github\\discoart\\discoart\\config.py:179\u001b[0m, in \u001b[0;36mcheatsheet\u001b[1;34m()\u001b[0m\n\u001b[0;32m    176\u001b[0m console \u001b[39m=\u001b[39m Console()\n\u001b[0;32m    178\u001b[0m \u001b[39mwith\u001b[39;00m \u001b[39mopen\u001b[39m(os\u001b[39m.\u001b[39mpath\u001b[39m.\u001b[39mjoin(__resources_path__, \u001b[39m'\u001b[39m\u001b[39mdocstrings.yml\u001b[39m\u001b[39m'\u001b[39m)) \u001b[39mas\u001b[39;00m ymlfile:\n\u001b[1;32m--> 179\u001b[0m     docs \u001b[39m=\u001b[39m yaml\u001b[39m.\u001b[39;49mload(ymlfile, Loader\u001b[39m=\u001b[39;49mLoader)\n\u001b[0;32m    181\u001b[0m param_tab \u001b[39m=\u001b[39m Table(\n\u001b[0;32m    182\u001b[0m     title\u001b[39m=\u001b[39m\u001b[39mf\u001b[39m\u001b[39m'\u001b[39m\u001b[39mCheatsheet for all supported parameters\u001b[39m\u001b[39m'\u001b[39m,\n\u001b[0;32m    183\u001b[0m     box\u001b[39m=\u001b[39mbox\u001b[39m.\u001b[39mROUNDED,\n\u001b[1;32m   (...)\u001b[0m\n\u001b[0;32m    186\u001b[0m     title_justify\u001b[39m=\u001b[39m\u001b[39m'\u001b[39m\u001b[39mcenter\u001b[39m\u001b[39m'\u001b[39m,\n\u001b[0;32m    187\u001b[0m )\n\u001b[0;32m    188\u001b[0m param_tab\u001b[39m.\u001b[39madd_column(\u001b[39m'\u001b[39m\u001b[39mArgument\u001b[39m\u001b[39m'\u001b[39m, justify\u001b[39m=\u001b[39m\u001b[39m'\u001b[39m\u001b[39mright\u001b[39m\u001b[39m'\u001b[39m)\n",
      "File \u001b[1;32md:\\Anaconda\\envs\\env_pytorch\\lib\\site-packages\\yaml\\__init__.py:79\u001b[0m, in \u001b[0;36mload\u001b[1;34m(stream, Loader)\u001b[0m\n\u001b[0;32m     74\u001b[0m \u001b[39mdef\u001b[39;00m \u001b[39mload\u001b[39m(stream, Loader):\n\u001b[0;32m     75\u001b[0m     \u001b[39m\"\"\"\u001b[39;00m\n\u001b[0;32m     76\u001b[0m \u001b[39m    Parse the first YAML document in a stream\u001b[39;00m\n\u001b[0;32m     77\u001b[0m \u001b[39m    and produce the corresponding Python object.\u001b[39;00m\n\u001b[0;32m     78\u001b[0m \u001b[39m    \"\"\"\u001b[39;00m\n\u001b[1;32m---> 79\u001b[0m     loader \u001b[39m=\u001b[39m Loader(stream)\n\u001b[0;32m     80\u001b[0m     \u001b[39mtry\u001b[39;00m:\n\u001b[0;32m     81\u001b[0m         \u001b[39mreturn\u001b[39;00m loader\u001b[39m.\u001b[39mget_single_data()\n",
      "File \u001b[1;32md:\\Anaconda\\envs\\env_pytorch\\lib\\site-packages\\yaml\\loader.py:44\u001b[0m, in \u001b[0;36mLoader.__init__\u001b[1;34m(self, stream)\u001b[0m\n\u001b[0;32m     43\u001b[0m \u001b[39mdef\u001b[39;00m \u001b[39m__init__\u001b[39m(\u001b[39mself\u001b[39m, stream):\n\u001b[1;32m---> 44\u001b[0m     Reader\u001b[39m.\u001b[39;49m\u001b[39m__init__\u001b[39;49m(\u001b[39mself\u001b[39;49m, stream)\n\u001b[0;32m     45\u001b[0m     Scanner\u001b[39m.\u001b[39m\u001b[39m__init__\u001b[39m(\u001b[39mself\u001b[39m)\n\u001b[0;32m     46\u001b[0m     Parser\u001b[39m.\u001b[39m\u001b[39m__init__\u001b[39m(\u001b[39mself\u001b[39m)\n",
      "File \u001b[1;32md:\\Anaconda\\envs\\env_pytorch\\lib\\site-packages\\yaml\\reader.py:85\u001b[0m, in \u001b[0;36mReader.__init__\u001b[1;34m(self, stream)\u001b[0m\n\u001b[0;32m     83\u001b[0m \u001b[39mself\u001b[39m\u001b[39m.\u001b[39meof \u001b[39m=\u001b[39m \u001b[39mFalse\u001b[39;00m\n\u001b[0;32m     84\u001b[0m \u001b[39mself\u001b[39m\u001b[39m.\u001b[39mraw_buffer \u001b[39m=\u001b[39m \u001b[39mNone\u001b[39;00m\n\u001b[1;32m---> 85\u001b[0m \u001b[39mself\u001b[39;49m\u001b[39m.\u001b[39;49mdetermine_encoding()\n",
      "File \u001b[1;32md:\\Anaconda\\envs\\env_pytorch\\lib\\site-packages\\yaml\\reader.py:124\u001b[0m, in \u001b[0;36mReader.determine_encoding\u001b[1;34m(self)\u001b[0m\n\u001b[0;32m    122\u001b[0m \u001b[39mdef\u001b[39;00m \u001b[39mdetermine_encoding\u001b[39m(\u001b[39mself\u001b[39m):\n\u001b[0;32m    123\u001b[0m     \u001b[39mwhile\u001b[39;00m \u001b[39mnot\u001b[39;00m \u001b[39mself\u001b[39m\u001b[39m.\u001b[39meof \u001b[39mand\u001b[39;00m (\u001b[39mself\u001b[39m\u001b[39m.\u001b[39mraw_buffer \u001b[39mis\u001b[39;00m \u001b[39mNone\u001b[39;00m \u001b[39mor\u001b[39;00m \u001b[39mlen\u001b[39m(\u001b[39mself\u001b[39m\u001b[39m.\u001b[39mraw_buffer) \u001b[39m<\u001b[39m \u001b[39m2\u001b[39m):\n\u001b[1;32m--> 124\u001b[0m         \u001b[39mself\u001b[39;49m\u001b[39m.\u001b[39;49mupdate_raw()\n\u001b[0;32m    125\u001b[0m     \u001b[39mif\u001b[39;00m \u001b[39misinstance\u001b[39m(\u001b[39mself\u001b[39m\u001b[39m.\u001b[39mraw_buffer, \u001b[39mbytes\u001b[39m):\n\u001b[0;32m    126\u001b[0m         \u001b[39mif\u001b[39;00m \u001b[39mself\u001b[39m\u001b[39m.\u001b[39mraw_buffer\u001b[39m.\u001b[39mstartswith(codecs\u001b[39m.\u001b[39mBOM_UTF16_LE):\n",
      "File \u001b[1;32md:\\Anaconda\\envs\\env_pytorch\\lib\\site-packages\\yaml\\reader.py:178\u001b[0m, in \u001b[0;36mReader.update_raw\u001b[1;34m(self, size)\u001b[0m\n\u001b[0;32m    177\u001b[0m \u001b[39mdef\u001b[39;00m \u001b[39mupdate_raw\u001b[39m(\u001b[39mself\u001b[39m, size\u001b[39m=\u001b[39m\u001b[39m4096\u001b[39m):\n\u001b[1;32m--> 178\u001b[0m     data \u001b[39m=\u001b[39m \u001b[39mself\u001b[39;49m\u001b[39m.\u001b[39;49mstream\u001b[39m.\u001b[39;49mread(size)\n\u001b[0;32m    179\u001b[0m     \u001b[39mif\u001b[39;00m \u001b[39mself\u001b[39m\u001b[39m.\u001b[39mraw_buffer \u001b[39mis\u001b[39;00m \u001b[39mNone\u001b[39;00m:\n\u001b[0;32m    180\u001b[0m         \u001b[39mself\u001b[39m\u001b[39m.\u001b[39mraw_buffer \u001b[39m=\u001b[39m data\n",
      "\u001b[1;31mUnicodeDecodeError\u001b[0m: 'gbk' codec can't decode byte 0x99 in position 2934: illegal multibyte sequence"
     ]
    }
   ],
   "source": [
    "from discoart import cheatsheet\n",
    "\n",
    "cheatsheet()"
   ]
  },
  {
   "cell_type": "code",
   "execution_count": 3,
   "metadata": {},
   "outputs": [
    {
     "name": "stderr",
     "output_type": "stream",
     "text": [
      "2022-08-07 17:17:21,005 - discoart - INFO - \n",
      "W&B dashboard is disabled. To enable the online dashboard for tracking losses, gradients, \n",
      "scheduling tracking, please set `WANDB_MODE=online` before running/importing DiscoArt. e.g.\n",
      "\n",
      "    import os\n",
      "    os.environ['WANDB_MODE'] = 'online'\n",
      "\n",
      "    from discoart import create\n",
      "    create(...)\n",
      "\n",
      "2022-08-07 17:17:21,006 - discoart - INFO - creating artworks `discoart-b40cf3cb163111edb20e645d8679f00d` (0/4)...\n"
     ]
    },
    {
     "ename": "PermissionError",
     "evalue": "[Errno 13] Permission denied: 'C:\\\\Users\\\\haha\\\\AppData\\\\Local\\\\Temp\\\\tmpgavbktfy.svg'",
     "output_type": "error",
     "traceback": [
      "\u001b[1;31m---------------------------------------------------------------------------\u001b[0m",
      "\u001b[1;31mPermissionError\u001b[0m                           Traceback (most recent call last)",
      "\u001b[1;32me:\\files\\Github\\discoart\\Ollie.ipynb Cell 1\u001b[0m in \u001b[0;36m<cell line: 3>\u001b[1;34m()\u001b[0m\n\u001b[0;32m      <a href='vscode-notebook-cell:/e%3A/files/Github/discoart/Ollie.ipynb#W0sZmlsZQ%3D%3D?line=0'>1</a>\u001b[0m \u001b[39mfrom\u001b[39;00m \u001b[39mdiscoart\u001b[39;00m \u001b[39mimport\u001b[39;00m create\n\u001b[1;32m----> <a href='vscode-notebook-cell:/e%3A/files/Github/discoart/Ollie.ipynb#W0sZmlsZQ%3D%3D?line=2'>3</a>\u001b[0m da \u001b[39m=\u001b[39m create(\n\u001b[0;32m      <a href='vscode-notebook-cell:/e%3A/files/Github/discoart/Ollie.ipynb#W0sZmlsZQ%3D%3D?line=3'>4</a>\u001b[0m     text_prompts\u001b[39m=\u001b[39;49m\u001b[39m'\u001b[39;49m\u001b[39mA painting of cat, siting on a cliff of endless grassland, patrolling the animals living in the grassland like a king of them.\u001b[39;49m\u001b[39m'\u001b[39;49m,\n\u001b[0;32m      <a href='vscode-notebook-cell:/e%3A/files/Github/discoart/Ollie.ipynb#W0sZmlsZQ%3D%3D?line=4'>5</a>\u001b[0m     init_image\u001b[39m=\u001b[39;49m\u001b[39m'\u001b[39;49m\u001b[39mE:/files/Github/discoart/Ollie_lion_kind_2.png\u001b[39;49m\u001b[39m'\u001b[39;49m,\n\u001b[0;32m      <a href='vscode-notebook-cell:/e%3A/files/Github/discoart/Ollie.ipynb#W0sZmlsZQ%3D%3D?line=5'>6</a>\u001b[0m     skip_steps\u001b[39m=\u001b[39;49m\u001b[39m100\u001b[39;49m,\n\u001b[0;32m      <a href='vscode-notebook-cell:/e%3A/files/Github/discoart/Ollie.ipynb#W0sZmlsZQ%3D%3D?line=6'>7</a>\u001b[0m )\n",
      "File \u001b[1;32me:\\files\\Github\\discoart\\discoart\\create.py:212\u001b[0m, in \u001b[0;36mcreate\u001b[1;34m(**kwargs)\u001b[0m\n\u001b[0;32m    209\u001b[0m \u001b[39mtry\u001b[39;00m:\n\u001b[0;32m    210\u001b[0m     \u001b[39mfrom\u001b[39;00m \u001b[39m.\u001b[39;00m\u001b[39mrunner\u001b[39;00m \u001b[39mimport\u001b[39;00m do_run\n\u001b[1;32m--> 212\u001b[0m     da \u001b[39m=\u001b[39m do_run(\n\u001b[0;32m    213\u001b[0m         _args,\n\u001b[0;32m    214\u001b[0m         (model, diffusion, clip_models, secondary_model),\n\u001b[0;32m    215\u001b[0m         device\u001b[39m=\u001b[39;49mdevice,\n\u001b[0;32m    216\u001b[0m         events\u001b[39m=\u001b[39;49mevents,\n\u001b[0;32m    217\u001b[0m     )\n\u001b[0;32m    218\u001b[0m     is_exit0 \u001b[39m=\u001b[39m \u001b[39mTrue\u001b[39;00m\n\u001b[0;32m    219\u001b[0m     \u001b[39mreturn\u001b[39;00m da\n",
      "File \u001b[1;32me:\\files\\Github\\discoart\\discoart\\runner.py:379\u001b[0m, in \u001b[0;36mdo_run\u001b[1;34m(args, models, device, events)\u001b[0m\n\u001b[0;32m    377\u001b[0m args\u001b[39m.\u001b[39mseed \u001b[39m=\u001b[39m new_seed\n\u001b[0;32m    378\u001b[0m \u001b[39mif\u001b[39;00m is_jupyter():\n\u001b[1;32m--> 379\u001b[0m     redraw_widget(\n\u001b[0;32m    380\u001b[0m         _handlers,\n\u001b[0;32m    381\u001b[0m         _redraw_fn,\n\u001b[0;32m    382\u001b[0m         args,\n\u001b[0;32m    383\u001b[0m         _nb,\n\u001b[0;32m    384\u001b[0m     )\n\u001b[0;32m    385\u001b[0m free_memory()\n\u001b[0;32m    387\u001b[0m _da \u001b[39m=\u001b[39m [Document(tags\u001b[39m=\u001b[39mcopy\u001b[39m.\u001b[39mdeepcopy(\u001b[39mvars\u001b[39m(args))) \u001b[39mfor\u001b[39;00m _ \u001b[39min\u001b[39;00m \u001b[39mrange\u001b[39m(args\u001b[39m.\u001b[39mbatch_size)]\n",
      "File \u001b[1;32me:\\files\\Github\\discoart\\discoart\\runner.py:509\u001b[0m, in \u001b[0;36mredraw_widget\u001b[1;34m(_handlers, _redraw_fn, args, _nb)\u001b[0m\n\u001b[0;32m    506\u001b[0m _handlers\u001b[39m.\u001b[39mprogress\u001b[39m.\u001b[39mdescription \u001b[39m=\u001b[39m \u001b[39mf\u001b[39m\u001b[39m'\u001b[39m\u001b[39mBaking \u001b[39m\u001b[39m{\u001b[39;00m_nb \u001b[39m+\u001b[39m \u001b[39m1\u001b[39m\u001b[39m}\u001b[39;00m\u001b[39m/\u001b[39m\u001b[39m{\u001b[39;00margs\u001b[39m.\u001b[39mn_batches\u001b[39m}\u001b[39;00m\u001b[39m: \u001b[39m\u001b[39m'\u001b[39m\n\u001b[0;32m    508\u001b[0m \u001b[39mwith\u001b[39;00m tempfile\u001b[39m.\u001b[39mNamedTemporaryFile(mode\u001b[39m=\u001b[39m\u001b[39m'\u001b[39m\u001b[39mwt\u001b[39m\u001b[39m'\u001b[39m, suffix\u001b[39m=\u001b[39m\u001b[39m'\u001b[39m\u001b[39m.svg\u001b[39m\u001b[39m'\u001b[39m) \u001b[39mas\u001b[39;00m fp:\n\u001b[1;32m--> 509\u001b[0m     save_config_svg(args, fp\u001b[39m.\u001b[39;49mname, only_non_default\u001b[39m=\u001b[39;49m\u001b[39mTrue\u001b[39;49;00m)\n\u001b[0;32m    510\u001b[0m     d \u001b[39m=\u001b[39m Document(uri\u001b[39m=\u001b[39mfp\u001b[39m.\u001b[39mname)\u001b[39m.\u001b[39mconvert_uri_to_datauri()\n\u001b[0;32m    511\u001b[0m     _handlers\u001b[39m.\u001b[39mconfig\u001b[39m.\u001b[39mvalue \u001b[39m=\u001b[39m \u001b[39mf\u001b[39m\u001b[39m'\u001b[39m\u001b[39m<img src=\u001b[39m\u001b[39m\"\u001b[39m\u001b[39m{\u001b[39;00md\u001b[39m.\u001b[39muri\u001b[39m}\u001b[39;00m\u001b[39m\"\u001b[39m\u001b[39m alt=\u001b[39m\u001b[39m\"\u001b[39m\u001b[39mnon-default config\u001b[39m\u001b[39m\"\u001b[39m\u001b[39m>\u001b[39m\u001b[39m'\u001b[39m\n",
      "File \u001b[1;32me:\\files\\Github\\discoart\\discoart\\config.py:118\u001b[0m, in \u001b[0;36msave_config_svg\u001b[1;34m(docs, output, **kwargs)\u001b[0m\n\u001b[0;32m    114\u001b[0m console \u001b[39m=\u001b[39m Console(\n\u001b[0;32m    115\u001b[0m     record\u001b[39m=\u001b[39m\u001b[39mTrue\u001b[39;00m, file\u001b[39m=\u001b[39mfp, force_jupyter\u001b[39m=\u001b[39m\u001b[39mFalse\u001b[39;00m, force_interactive\u001b[39m=\u001b[39m\u001b[39mFalse\u001b[39;00m\n\u001b[0;32m    116\u001b[0m )\n\u001b[0;32m    117\u001b[0m print_args_table(cfg, console, \u001b[39m*\u001b[39m\u001b[39m*\u001b[39mkwargs)\n\u001b[1;32m--> 118\u001b[0m console\u001b[39m.\u001b[39;49msave_svg(\n\u001b[0;32m    119\u001b[0m     output \u001b[39mor\u001b[39;49;00m \u001b[39mf\u001b[39;49m\u001b[39m'\u001b[39;49m\u001b[39m{\u001b[39;49;00mcfg[\u001b[39m\"\u001b[39;49m\u001b[39mname_docarray\u001b[39;49m\u001b[39m\"\u001b[39;49m]\u001b[39m}\u001b[39;49;00m\u001b[39m.svg\u001b[39;49m\u001b[39m'\u001b[39;49m,\n\u001b[0;32m    120\u001b[0m     theme\u001b[39m=\u001b[39;49mMONOKAI,\n\u001b[0;32m    121\u001b[0m     title\u001b[39m=\u001b[39;49m\u001b[39mf\u001b[39;49m\u001b[39m'\u001b[39;49m\u001b[39mDiscoArt \u001b[39;49m\u001b[39m{\u001b[39;49;00m__version__\u001b[39m}\u001b[39;49;00m\u001b[39m'\u001b[39;49m,\n\u001b[0;32m    122\u001b[0m )\n",
      "File \u001b[1;32md:\\Anaconda\\envs\\env_pytorch\\lib\\site-packages\\rich\\console.py:2503\u001b[0m, in \u001b[0;36mConsole.save_svg\u001b[1;34m(self, path, title, theme, clear, code_format)\u001b[0m\n\u001b[0;32m   2486\u001b[0m \u001b[39m\"\"\"Generate an SVG file from the console contents (requires record=True in Console constructor).\u001b[39;00m\n\u001b[0;32m   2487\u001b[0m \n\u001b[0;32m   2488\u001b[0m \u001b[39mArgs:\u001b[39;00m\n\u001b[1;32m   (...)\u001b[0m\n\u001b[0;32m   2495\u001b[0m \u001b[39m        injected by Rich can be found by inspecting the ``console.CONSOLE_SVG_FORMAT`` variable.\u001b[39;00m\n\u001b[0;32m   2496\u001b[0m \u001b[39m\"\"\"\u001b[39;00m\n\u001b[0;32m   2497\u001b[0m svg \u001b[39m=\u001b[39m \u001b[39mself\u001b[39m\u001b[39m.\u001b[39mexport_svg(\n\u001b[0;32m   2498\u001b[0m     title\u001b[39m=\u001b[39mtitle,\n\u001b[0;32m   2499\u001b[0m     theme\u001b[39m=\u001b[39mtheme,\n\u001b[0;32m   2500\u001b[0m     clear\u001b[39m=\u001b[39mclear,\n\u001b[0;32m   2501\u001b[0m     code_format\u001b[39m=\u001b[39mcode_format,\n\u001b[0;32m   2502\u001b[0m )\n\u001b[1;32m-> 2503\u001b[0m \u001b[39mwith\u001b[39;00m \u001b[39mopen\u001b[39;49m(path, \u001b[39m\"\u001b[39;49m\u001b[39mwt\u001b[39;49m\u001b[39m\"\u001b[39;49m, encoding\u001b[39m=\u001b[39;49m\u001b[39m\"\u001b[39;49m\u001b[39mutf-8\u001b[39;49m\u001b[39m\"\u001b[39;49m) \u001b[39mas\u001b[39;00m write_file:\n\u001b[0;32m   2504\u001b[0m     write_file\u001b[39m.\u001b[39mwrite(svg)\n",
      "\u001b[1;31mPermissionError\u001b[0m: [Errno 13] Permission denied: 'C:\\\\Users\\\\haha\\\\AppData\\\\Local\\\\Temp\\\\tmpgavbktfy.svg'"
     ]
    }
   ],
   "source": [
    "import os\n",
    "os.environ['WANDB_MODE'] = 'online'\n",
    "from discoart import create\n",
    "da = create(\n",
    "    text_prompts='A painting of a cat, wearing a crown.',\n",
    "    init_image='/content/Ollie_lion_king.png',\n",
    "    skip_steps=100,\n",
    "    width_height = [850,1135],\n",
    "    clip_guidance_scale = 100,\n",
    "    eta = 0,\n",
    "    init_scale = 5000,\n",
    "    rand_mag = 0,\n",
    "    randomize_class = False\n",
    "\n",
    ")"
   ]
  },
  {
   "cell_type": "code",
   "execution_count": 4,
   "metadata": {},
   "outputs": [
    {
     "name": "stdout",
     "output_type": "stream",
     "text": [
      "tensor([[0.8263, 0.4921, 0.0756],\n",
      "        [0.2925, 0.0869, 0.6660],\n",
      "        [0.5719, 0.7622, 0.4539],\n",
      "        [0.1354, 0.7360, 0.3302],\n",
      "        [0.7739, 0.3599, 0.1989]])\n"
     ]
    },
    {
     "data": {
      "text/plain": [
       "True"
      ]
     },
     "execution_count": 4,
     "metadata": {},
     "output_type": "execute_result"
    }
   ],
   "source": [
    "import torch\n",
    "print(torch.rand(5, 3))\n",
    "torch.cuda.is_available()"
   ]
  },
  {
   "cell_type": "code",
   "execution_count": 5,
   "metadata": {},
   "outputs": [
    {
     "name": "stdout",
     "output_type": "stream",
     "text": [
      "1.12.1\n"
     ]
    }
   ],
   "source": [
    "print(torch.__version__)"
   ]
  }
 ],
 "metadata": {
  "kernelspec": {
   "display_name": "Python 3.9.12 ('env_pytorch')",
   "language": "python",
   "name": "python3"
  },
  "language_info": {
   "codemirror_mode": {
    "name": "ipython",
    "version": 3
   },
   "file_extension": ".py",
   "mimetype": "text/x-python",
   "name": "python",
   "nbconvert_exporter": "python",
   "pygments_lexer": "ipython3",
   "version": "3.9.12"
  },
  "orig_nbformat": 4,
  "vscode": {
   "interpreter": {
    "hash": "9c5a5f51f73ebf386675e6c64588aa3d54d5c3178a0cca131a3d9859466e0b13"
   }
  }
 },
 "nbformat": 4,
 "nbformat_minor": 2
}
